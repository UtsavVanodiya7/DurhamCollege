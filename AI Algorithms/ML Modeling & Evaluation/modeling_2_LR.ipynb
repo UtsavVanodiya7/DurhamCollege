{
 "cells": [
  {
   "cell_type": "markdown",
   "metadata": {},
   "source": [
    "# Modeling \n",
    "Here, I have tried to use LR to predict Low and high values for a day. Features are one minute stock values from 9:15 to 11:00. \n",
    "Right now, we will make a model for only one stock."
   ]
  },
  {
   "cell_type": "code",
   "execution_count": 14,
   "metadata": {},
   "outputs": [],
   "source": [
    "from sklearn.preprocessing import MinMaxScaler\n",
    "from sklearn.model_selection import train_test_split\n",
    "from sklearn.metrics import mean_squared_error\n",
    "from sklearn.linear_model import LinearRegression\n",
    "\n",
    "import pandas as pd\n",
    "import numpy as np\n",
    "import math\n",
    "import pickle"
   ]
  },
  {
   "cell_type": "code",
   "execution_count": 2,
   "metadata": {},
   "outputs": [
    {
     "data": {
      "text/html": [
       "<div>\n",
       "<style scoped>\n",
       "    .dataframe tbody tr th:only-of-type {\n",
       "        vertical-align: middle;\n",
       "    }\n",
       "\n",
       "    .dataframe tbody tr th {\n",
       "        vertical-align: top;\n",
       "    }\n",
       "\n",
       "    .dataframe thead th {\n",
       "        text-align: right;\n",
       "    }\n",
       "</style>\n",
       "<table border=\"1\" class=\"dataframe\">\n",
       "  <thead>\n",
       "    <tr style=\"text-align: right;\">\n",
       "      <th></th>\n",
       "      <th>timestamp</th>\n",
       "      <th>open</th>\n",
       "      <th>high</th>\n",
       "      <th>low</th>\n",
       "      <th>close</th>\n",
       "      <th>volume</th>\n",
       "    </tr>\n",
       "  </thead>\n",
       "  <tbody>\n",
       "    <tr>\n",
       "      <th>0</th>\n",
       "      <td>2017-01-02 09:15:00+05:30</td>\n",
       "      <td>392.05</td>\n",
       "      <td>392.15</td>\n",
       "      <td>390.90</td>\n",
       "      <td>390.90</td>\n",
       "      <td>39465.0</td>\n",
       "    </tr>\n",
       "    <tr>\n",
       "      <th>1</th>\n",
       "      <td>2017-01-02 09:16:00+05:30</td>\n",
       "      <td>391.00</td>\n",
       "      <td>391.35</td>\n",
       "      <td>390.50</td>\n",
       "      <td>390.90</td>\n",
       "      <td>19199.0</td>\n",
       "    </tr>\n",
       "    <tr>\n",
       "      <th>2</th>\n",
       "      <td>2017-01-02 09:17:00+05:30</td>\n",
       "      <td>390.65</td>\n",
       "      <td>390.90</td>\n",
       "      <td>390.10</td>\n",
       "      <td>390.10</td>\n",
       "      <td>19773.0</td>\n",
       "    </tr>\n",
       "    <tr>\n",
       "      <th>3</th>\n",
       "      <td>2017-01-02 09:18:00+05:30</td>\n",
       "      <td>390.00</td>\n",
       "      <td>390.00</td>\n",
       "      <td>389.30</td>\n",
       "      <td>389.75</td>\n",
       "      <td>17499.0</td>\n",
       "    </tr>\n",
       "    <tr>\n",
       "      <th>4</th>\n",
       "      <td>2017-01-02 09:19:00+05:30</td>\n",
       "      <td>389.75</td>\n",
       "      <td>390.00</td>\n",
       "      <td>389.55</td>\n",
       "      <td>389.80</td>\n",
       "      <td>13701.0</td>\n",
       "    </tr>\n",
       "  </tbody>\n",
       "</table>\n",
       "</div>"
      ],
      "text/plain": [
       "                   timestamp    open    high     low   close   volume\n",
       "0  2017-01-02 09:15:00+05:30  392.05  392.15  390.90  390.90  39465.0\n",
       "1  2017-01-02 09:16:00+05:30  391.00  391.35  390.50  390.90  19199.0\n",
       "2  2017-01-02 09:17:00+05:30  390.65  390.90  390.10  390.10  19773.0\n",
       "3  2017-01-02 09:18:00+05:30  390.00  390.00  389.30  389.75  17499.0\n",
       "4  2017-01-02 09:19:00+05:30  389.75  390.00  389.55  389.80  13701.0"
      ]
     },
     "execution_count": 2,
     "metadata": {},
     "output_type": "execute_result"
    }
   ],
   "source": [
    "stock_file_path = r\"U:\\Study\\Durham_AI_Course\\Projects\\AI Algorithms\\dataset\\FullDataCsv\\TATASTEEL__EQ__NSE__NSE__MINUTE.csv\"\n",
    "\n",
    "stock_df = pd.read_csv(stock_file_path)\n",
    "stock_df.head()"
   ]
  },
  {
   "cell_type": "code",
   "execution_count": 3,
   "metadata": {},
   "outputs": [],
   "source": [
    "def get_one_minute_data(file_path, train_steps_size=105, test_steps_size=355):\n",
    "    stock_df = pd.read_csv(file_path)\n",
    "\n",
    "    stock_df['timestamp'] = pd.to_datetime(stock_df['timestamp'])\n",
    "    stock_df_groups = stock_df.groupby(pd.DatetimeIndex(stock_df['timestamp']).normalize())\n",
    "\n",
    "    one_minute_data = []\n",
    "    low_high_next_numbers = []\n",
    "\n",
    "    count = 0\n",
    "\n",
    "    previous_data = []\n",
    "    \n",
    "    for i, item in enumerate(stock_df_groups):\n",
    "        name, group = item\n",
    "        \n",
    "        if int(group.isnull().sum().sum()) > 0:\n",
    "            count += 1\n",
    "            continue\n",
    "\n",
    "        if len(group['close']) < test_steps_size:\n",
    "            continue\n",
    "            \n",
    "        numbers = list(group['close'].iloc[:train_steps_size].values)\n",
    "        \n",
    "        scaler = MinMaxScaler()\n",
    "        new_data = scaler.fit_transform(np.reshape(np.asarray(numbers),(-1,1)).astype(np.float32))\n",
    "        one_minute_data.append(new_data[:,0])\n",
    "\n",
    "        next_numbers = group['close'].iloc[train_steps_size:test_steps_size].values.astype(np.float32)\n",
    "\n",
    "        high = max(next_numbers)\n",
    "        low = min(next_numbers)\n",
    "        \n",
    "        new_low = scaler.transform([[low]]).astype(np.float32)[0]\n",
    "        new_high = scaler.transform([[high]]).astype(np.float32)[0]\n",
    "\n",
    "        low_high_next_numbers.append((new_low, new_high, scaler.transform([next_numbers])[0]))\n",
    "\n",
    "    one_minute_data = np.asarray(one_minute_data).astype(np.float32)\n",
    "    low_high_next_numbers = np.asarray(low_high_next_numbers)\n",
    "    return one_minute_data, low_high_next_numbers"
   ]
  },
  {
   "cell_type": "markdown",
   "metadata": {},
   "source": [
    "# Train a Linear Regression Model"
   ]
  },
  {
   "cell_type": "code",
   "execution_count": 4,
   "metadata": {},
   "outputs": [],
   "source": [
    "train_steps_size = 105\n",
    "features = 1\n",
    "batch_size = 100"
   ]
  },
  {
   "cell_type": "code",
   "execution_count": 5,
   "metadata": {},
   "outputs": [],
   "source": [
    "one_minute_data, low_high_next_numbers = get_one_minute_data(stock_file_path, train_steps_size=train_steps_size) "
   ]
  },
  {
   "cell_type": "code",
   "execution_count": 6,
   "metadata": {},
   "outputs": [],
   "source": [
    "train_x, test_x, train_y, test_y = train_test_split(one_minute_data, low_high_next_numbers, random_state=1)\n",
    "\n",
    "train_low_values = train_y[:,0].astype(np.float32)\n",
    "train_high_values = train_y[:,1].astype(np.float32)\n",
    "\n",
    "test_low_values = test_y[:,0].astype(np.float32)\n",
    "test_high_values = test_y[:,1].astype(np.float32)"
   ]
  },
  {
   "cell_type": "code",
   "execution_count": 7,
   "metadata": {},
   "outputs": [
    {
     "data": {
      "text/plain": [
       "(662, 105)"
      ]
     },
     "execution_count": 7,
     "metadata": {},
     "output_type": "execute_result"
    }
   ],
   "source": [
    "train_x.shape"
   ]
  },
  {
   "cell_type": "code",
   "execution_count": 8,
   "metadata": {},
   "outputs": [
    {
     "data": {
      "text/plain": [
       "(221, 105)"
      ]
     },
     "execution_count": 8,
     "metadata": {},
     "output_type": "execute_result"
    }
   ],
   "source": [
    "test_x.shape"
   ]
  },
  {
   "cell_type": "code",
   "execution_count": 9,
   "metadata": {},
   "outputs": [
    {
     "data": {
      "text/plain": [
       "(662,)"
      ]
     },
     "execution_count": 9,
     "metadata": {},
     "output_type": "execute_result"
    }
   ],
   "source": [
    "train_low_values.shape"
   ]
  },
  {
   "cell_type": "code",
   "execution_count": 10,
   "metadata": {},
   "outputs": [
    {
     "data": {
      "text/plain": [
       "(662,)"
      ]
     },
     "execution_count": 10,
     "metadata": {},
     "output_type": "execute_result"
    }
   ],
   "source": [
    "train_high_values.shape"
   ]
  },
  {
   "cell_type": "code",
   "execution_count": 11,
   "metadata": {},
   "outputs": [
    {
     "name": "stdout",
     "output_type": "stream",
     "text": [
      "Test Score: 0.69 RMSE\n"
     ]
    }
   ],
   "source": [
    "low_model = LinearRegression()\n",
    "low_model.fit(train_x, train_low_values)\n",
    "\n",
    "pred_low = low_model.predict(test_x)\n",
    "test_score = math.sqrt(mean_squared_error(test_low_values, pred_low))\n",
    "print(\"Test Score: %.2f RMSE\" % test_score)"
   ]
  },
  {
   "cell_type": "code",
   "execution_count": 12,
   "metadata": {},
   "outputs": [
    {
     "name": "stdout",
     "output_type": "stream",
     "text": [
      "Test Score: 0.69 RMSE\n"
     ]
    }
   ],
   "source": [
    "high_model = LinearRegression()\n",
    "high_model.fit(train_x, train_high_values)\n",
    "\n",
    "pred_high = high_model.predict(test_x)\n",
    "test_score = math.sqrt(mean_squared_error(test_high_values, pred_high))\n",
    "print(\"Test Score: %.2f RMSE\" % test_score)"
   ]
  },
  {
   "cell_type": "code",
   "execution_count": 13,
   "metadata": {},
   "outputs": [
    {
     "name": "stdout",
     "output_type": "stream",
     "text": [
      "221\n",
      "Possible Trades: 90\n",
      "Successful Trades: 13\n",
      "Fail Trades: 32\n",
      "Win Ratio: 0.2889\n"
     ]
    }
   ],
   "source": [
    "profit=0.5\n",
    "stoploss=-0.5\n",
    "test_next_numbers = low_high_next_numbers[:, 2]\n",
    "\n",
    "test_samples_size = len(test_x)\n",
    "\n",
    "pred_y_low = low_model.predict(test_x)\n",
    "pred_y_high = high_model.predict(test_x)\n",
    "\n",
    "count = 0\n",
    "success = 0\n",
    "fail = 0\n",
    "\n",
    "for i in range(test_samples_size):\n",
    "    true_low = test_low_values[i]\n",
    "    true_high = test_high_values[i]\n",
    "\n",
    "    predicted_low = pred_y_low[i]\n",
    "    predicted_high = pred_y_low[i]\n",
    "\n",
    "    buy_value = predicted_low\n",
    "\n",
    "    if true_low <= buy_value <= true_high:\n",
    "        count += 1\n",
    "\n",
    "        sell_value = buy_value + (buy_value * profit) / 100\n",
    "        stop_loss_value = buy_value + (buy_value * stoploss) / 100\n",
    "\n",
    "        bought = False\n",
    "\n",
    "        for value in test_next_numbers[i]:\n",
    "            if bought:\n",
    "                if value <= stop_loss_value:\n",
    "                    fail += 1\n",
    "                    break\n",
    "                elif value >= sell_value:\n",
    "                    success += 1\n",
    "                    break\n",
    "            else:\n",
    "                if value <= buy_value:\n",
    "                    bought = True\n",
    "\n",
    "print(test_samples_size)\n",
    "print(\"Possible Trades:\", count)\n",
    "print(\"Successful Trades:\", success)\n",
    "print(\"Fail Trades:\", fail)\n",
    "\n",
    "win_ratio = round(success / (success + fail), 4)\n",
    "\n",
    "print(\"Win Ratio:\", win_ratio)"
   ]
  },
  {
   "cell_type": "code",
   "execution_count": 15,
   "metadata": {},
   "outputs": [],
   "source": [
    "filename = 'lr_low_model.md'\n",
    "pickle.dump(low_model, open(filename, 'wb'))\n",
    "filename = 'lr_high_model.md'\n",
    "pickle.dump(high_model, open(filename, 'wb'))"
   ]
  },
  {
   "cell_type": "code",
   "execution_count": null,
   "metadata": {},
   "outputs": [],
   "source": []
  }
 ],
 "metadata": {
  "kernelspec": {
   "display_name": "Python 3",
   "language": "python",
   "name": "python3"
  },
  "language_info": {
   "codemirror_mode": {
    "name": "ipython",
    "version": 3
   },
   "file_extension": ".py",
   "mimetype": "text/x-python",
   "name": "python",
   "nbconvert_exporter": "python",
   "pygments_lexer": "ipython3",
   "version": "3.8.3"
  }
 },
 "nbformat": 4,
 "nbformat_minor": 4
}
