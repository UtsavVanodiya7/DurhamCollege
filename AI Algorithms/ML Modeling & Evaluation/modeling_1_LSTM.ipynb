{
 "cells": [
  {
   "cell_type": "markdown",
   "metadata": {},
   "source": [
    "# Modeling \n",
    "Here, I have tried to use LSTM to predict Low and high values for a day. Features are one minute stock values from 9:15 to 11:00. \n",
    "Right now, we will make a model for only one stock."
   ]
  },
  {
   "cell_type": "code",
   "execution_count": 1,
   "metadata": {},
   "outputs": [],
   "source": [
    "from sklearn.preprocessing import MinMaxScaler\n",
    "from sklearn.model_selection import train_test_split\n",
    "from sklearn.metrics import mean_squared_error\n",
    "from keras.layers import LSTM, Dense, Dropout\n",
    "from keras.models import Sequential\n",
    "\n",
    "import pandas as pd\n",
    "import numpy as np\n",
    "import math"
   ]
  },
  {
   "cell_type": "code",
   "execution_count": 15,
   "metadata": {},
   "outputs": [
    {
     "data": {
      "text/html": [
       "<div>\n",
       "<style scoped>\n",
       "    .dataframe tbody tr th:only-of-type {\n",
       "        vertical-align: middle;\n",
       "    }\n",
       "\n",
       "    .dataframe tbody tr th {\n",
       "        vertical-align: top;\n",
       "    }\n",
       "\n",
       "    .dataframe thead th {\n",
       "        text-align: right;\n",
       "    }\n",
       "</style>\n",
       "<table border=\"1\" class=\"dataframe\">\n",
       "  <thead>\n",
       "    <tr style=\"text-align: right;\">\n",
       "      <th></th>\n",
       "      <th>timestamp</th>\n",
       "      <th>open</th>\n",
       "      <th>high</th>\n",
       "      <th>low</th>\n",
       "      <th>close</th>\n",
       "      <th>volume</th>\n",
       "    </tr>\n",
       "  </thead>\n",
       "  <tbody>\n",
       "    <tr>\n",
       "      <th>0</th>\n",
       "      <td>2017-01-02 09:15:00+05:30</td>\n",
       "      <td>392.05</td>\n",
       "      <td>392.15</td>\n",
       "      <td>390.90</td>\n",
       "      <td>390.90</td>\n",
       "      <td>39465.0</td>\n",
       "    </tr>\n",
       "    <tr>\n",
       "      <th>1</th>\n",
       "      <td>2017-01-02 09:16:00+05:30</td>\n",
       "      <td>391.00</td>\n",
       "      <td>391.35</td>\n",
       "      <td>390.50</td>\n",
       "      <td>390.90</td>\n",
       "      <td>19199.0</td>\n",
       "    </tr>\n",
       "    <tr>\n",
       "      <th>2</th>\n",
       "      <td>2017-01-02 09:17:00+05:30</td>\n",
       "      <td>390.65</td>\n",
       "      <td>390.90</td>\n",
       "      <td>390.10</td>\n",
       "      <td>390.10</td>\n",
       "      <td>19773.0</td>\n",
       "    </tr>\n",
       "    <tr>\n",
       "      <th>3</th>\n",
       "      <td>2017-01-02 09:18:00+05:30</td>\n",
       "      <td>390.00</td>\n",
       "      <td>390.00</td>\n",
       "      <td>389.30</td>\n",
       "      <td>389.75</td>\n",
       "      <td>17499.0</td>\n",
       "    </tr>\n",
       "    <tr>\n",
       "      <th>4</th>\n",
       "      <td>2017-01-02 09:19:00+05:30</td>\n",
       "      <td>389.75</td>\n",
       "      <td>390.00</td>\n",
       "      <td>389.55</td>\n",
       "      <td>389.80</td>\n",
       "      <td>13701.0</td>\n",
       "    </tr>\n",
       "  </tbody>\n",
       "</table>\n",
       "</div>"
      ],
      "text/plain": [
       "                   timestamp    open    high     low   close   volume\n",
       "0  2017-01-02 09:15:00+05:30  392.05  392.15  390.90  390.90  39465.0\n",
       "1  2017-01-02 09:16:00+05:30  391.00  391.35  390.50  390.90  19199.0\n",
       "2  2017-01-02 09:17:00+05:30  390.65  390.90  390.10  390.10  19773.0\n",
       "3  2017-01-02 09:18:00+05:30  390.00  390.00  389.30  389.75  17499.0\n",
       "4  2017-01-02 09:19:00+05:30  389.75  390.00  389.55  389.80  13701.0"
      ]
     },
     "execution_count": 15,
     "metadata": {},
     "output_type": "execute_result"
    }
   ],
   "source": [
    "stock_file_path = r\"U:\\Study\\Durham_AI_Course\\Projects\\AI Algorithms\\dataset\\FullDataCsv\\TATASTEEL__EQ__NSE__NSE__MINUTE.csv\"\n",
    "\n",
    "stock_df = pd.read_csv(stock_file_path)\n",
    "stock_df.head()"
   ]
  },
  {
   "cell_type": "markdown",
   "metadata": {},
   "source": [
    "#### Let's get one minute data day wise"
   ]
  },
  {
   "cell_type": "code",
   "execution_count": 16,
   "metadata": {},
   "outputs": [],
   "source": [
    "def get_one_minute_data(file_path, train_steps_size=105, test_steps_size=355, last_days=0):\n",
    "    stock_df = pd.read_csv(file_path)\n",
    "\n",
    "    stock_df['timestamp'] = pd.to_datetime(stock_df['timestamp'])\n",
    "    stock_df_groups = stock_df.groupby(pd.DatetimeIndex(stock_df['timestamp']).normalize())\n",
    "\n",
    "    one_minute_data = []\n",
    "    low_high_next_numbers = []\n",
    "\n",
    "    count = 0\n",
    "\n",
    "    previous_data = []\n",
    "    \n",
    "    for i, item in enumerate(stock_df_groups):\n",
    "        name, group = item\n",
    "        \n",
    "        if int(group.isnull().sum().sum()) > 0:\n",
    "            count += 1\n",
    "            continue\n",
    "\n",
    "        if len(group['close']) < test_steps_size:\n",
    "            continue\n",
    "            \n",
    "        numbers = list(group['close'].iloc[:train_steps_size].values)\n",
    "        \n",
    "        if i < last_days:\n",
    "            previous_data = list(group['close'].values)\n",
    "            continue\n",
    "        \n",
    "        if last_days > 0:\n",
    "            if len(previous_data) != last_days * 375:\n",
    "                continue\n",
    "        \n",
    "        new_numbers = previous_data + numbers\n",
    "        \n",
    "        if last_days > 0:\n",
    "            previous_data = list(group['close'].values)\n",
    "        \n",
    "        scaler = MinMaxScaler()\n",
    "        new_data = scaler.fit_transform(np.reshape(np.asarray(new_numbers),(-1,1)).astype(np.float32))\n",
    "        \n",
    "        one_minute_data.append(new_data)\n",
    "\n",
    "        next_numbers = group['close'].iloc[train_steps_size:test_steps_size].values.astype(np.float32)\n",
    "\n",
    "        high = max(next_numbers)\n",
    "        low = min(next_numbers)\n",
    "        \n",
    "        new_low, new_high = scaler.transform([[low,high]]).astype(np.float32)[0]\n",
    "\n",
    "        low_high_next_numbers.append((new_low, new_high, scaler.transform([next_numbers])[0]))\n",
    "\n",
    "    one_minute_data = np.asarray(one_minute_data).astype(np.float32)\n",
    "    low_high_next_numbers = np.asarray(low_high_next_numbers)\n",
    "    return one_minute_data, low_high_next_numbers"
   ]
  },
  {
   "cell_type": "markdown",
   "metadata": {},
   "source": [
    "# Train an LSTM Model"
   ]
  },
  {
   "cell_type": "markdown",
   "metadata": {},
   "source": [
    "### Split Data"
   ]
  },
  {
   "cell_type": "code",
   "execution_count": 17,
   "metadata": {},
   "outputs": [],
   "source": [
    "train_steps_size = 105\n",
    "features = 1\n",
    "batch_size = 100"
   ]
  },
  {
   "cell_type": "code",
   "execution_count": 18,
   "metadata": {},
   "outputs": [],
   "source": [
    "one_minute_data, low_high_next_numbers = get_one_minute_data(stock_file_path, train_steps_size=train_steps_size, last_days=0) "
   ]
  },
  {
   "cell_type": "code",
   "execution_count": 19,
   "metadata": {},
   "outputs": [],
   "source": [
    "train_x, test_x, train_y, test_y = train_test_split(one_minute_data, low_high_next_numbers, random_state=1)\n",
    "\n",
    "train_low_values = train_y[:,0].astype(np.float32)\n",
    "train_high_values = train_y[:,1].astype(np.float32)\n",
    "\n",
    "test_low_values = test_y[:,0].astype(np.float32)\n",
    "test_high_values = test_y[:,1].astype(np.float32)"
   ]
  },
  {
   "cell_type": "code",
   "execution_count": 20,
   "metadata": {},
   "outputs": [
    {
     "data": {
      "text/plain": [
       "(662, 105, 1)"
      ]
     },
     "execution_count": 20,
     "metadata": {},
     "output_type": "execute_result"
    }
   ],
   "source": [
    "train_x.shape"
   ]
  },
  {
   "cell_type": "markdown",
   "metadata": {},
   "source": [
    "So, above shape is perfect for the LSTM. It needs to be a 3d array (samples, timesteps, features). We have only one feature, closing price for each minute. Time steps are 105 for 9:15 AM to 11:00 AM."
   ]
  },
  {
   "cell_type": "code",
   "execution_count": 21,
   "metadata": {},
   "outputs": [
    {
     "data": {
      "text/plain": [
       "(221, 105, 1)"
      ]
     },
     "execution_count": 21,
     "metadata": {},
     "output_type": "execute_result"
    }
   ],
   "source": [
    "test_x.shape"
   ]
  },
  {
   "cell_type": "code",
   "execution_count": 22,
   "metadata": {},
   "outputs": [
    {
     "data": {
      "text/plain": [
       "(662,)"
      ]
     },
     "execution_count": 22,
     "metadata": {},
     "output_type": "execute_result"
    }
   ],
   "source": [
    "train_low_values.shape"
   ]
  },
  {
   "cell_type": "code",
   "execution_count": 23,
   "metadata": {},
   "outputs": [
    {
     "data": {
      "text/plain": [
       "(662,)"
      ]
     },
     "execution_count": 23,
     "metadata": {},
     "output_type": "execute_result"
    }
   ],
   "source": [
    "train_high_values.shape"
   ]
  },
  {
   "cell_type": "markdown",
   "metadata": {},
   "source": [
    "Input Data Seem Proper. So, now let's feed it to LSTM."
   ]
  },
  {
   "cell_type": "code",
   "execution_count": 24,
   "metadata": {},
   "outputs": [
    {
     "name": "stdout",
     "output_type": "stream",
     "text": [
      "Epoch 1/10\n",
      "7/7 - 1s - loss: 0.5763\n",
      "Epoch 2/10\n",
      "7/7 - 1s - loss: 0.5068\n",
      "Epoch 3/10\n",
      "7/7 - 1s - loss: 0.4724\n",
      "Epoch 4/10\n",
      "7/7 - 1s - loss: 0.4597\n",
      "Epoch 5/10\n",
      "7/7 - 1s - loss: 0.4526\n",
      "Epoch 6/10\n",
      "7/7 - 1s - loss: 0.4541\n",
      "Epoch 7/10\n",
      "7/7 - 1s - loss: 0.4494\n",
      "Epoch 8/10\n",
      "7/7 - 1s - loss: 0.4499\n",
      "Epoch 9/10\n",
      "7/7 - 1s - loss: 0.4469\n",
      "Epoch 10/10\n",
      "7/7 - 1s - loss: 0.4493\n",
      "Test Score: 0.62 RMSE\n"
     ]
    }
   ],
   "source": [
    "low_model = Sequential()\n",
    "\n",
    "# A bit complex model.\n",
    "# low_model.add(LSTM(200, input_shape=(train_steps_size, features), return_sequences=True))\n",
    "# low_model.add(Dropout(0.2))\n",
    "# low_model.add(LSTM(200))\n",
    "# low_model.add(Dropout(0.2))\n",
    "# low_model.add(Dense(16))\n",
    "# low_model.add(Dense(1))\n",
    "\n",
    "# Simple Model 1.\n",
    "low_model.add(LSTM(200, input_shape=(train_steps_size, features)))\n",
    "low_model.add(Dense(16))\n",
    "low_model.add(Dense(1))\n",
    "\n",
    "# Simple Model 2.\n",
    "# low_model.add(LSTM(200, input_shape=(train_steps_size, features)))\n",
    "# low_model.add(Dense(32))\n",
    "# low_model.add(Dense(16))\n",
    "# low_model.add(Dense(1))\n",
    "\n",
    "low_model.compile(loss='mean_squared_error', optimizer='adam')\n",
    "\n",
    "low_model.fit(train_x, train_low_values, epochs=10, batch_size=batch_size, verbose=2)\n",
    "\n",
    "pred_low = low_model.predict(test_x)\n",
    "test_score = math.sqrt(mean_squared_error(test_low_values, pred_low[:,0]))\n",
    "print(\"Test Score: %.2f RMSE\" % test_score)"
   ]
  },
  {
   "cell_type": "code",
   "execution_count": 25,
   "metadata": {},
   "outputs": [
    {
     "data": {
      "text/html": [
       "<div>\n",
       "<style scoped>\n",
       "    .dataframe tbody tr th:only-of-type {\n",
       "        vertical-align: middle;\n",
       "    }\n",
       "\n",
       "    .dataframe tbody tr th {\n",
       "        vertical-align: top;\n",
       "    }\n",
       "\n",
       "    .dataframe thead th {\n",
       "        text-align: right;\n",
       "    }\n",
       "</style>\n",
       "<table border=\"1\" class=\"dataframe\">\n",
       "  <thead>\n",
       "    <tr style=\"text-align: right;\">\n",
       "      <th></th>\n",
       "      <th>timestamp</th>\n",
       "      <th>open</th>\n",
       "      <th>high</th>\n",
       "      <th>low</th>\n",
       "      <th>close</th>\n",
       "      <th>volume</th>\n",
       "    </tr>\n",
       "  </thead>\n",
       "  <tbody>\n",
       "    <tr>\n",
       "      <th>105</th>\n",
       "      <td>2017-01-02 11:00:00+05:30</td>\n",
       "      <td>394.60</td>\n",
       "      <td>394.70</td>\n",
       "      <td>394.2</td>\n",
       "      <td>394.25</td>\n",
       "      <td>3607.0</td>\n",
       "    </tr>\n",
       "    <tr>\n",
       "      <th>106</th>\n",
       "      <td>2017-01-02 11:01:00+05:30</td>\n",
       "      <td>394.30</td>\n",
       "      <td>394.30</td>\n",
       "      <td>394.1</td>\n",
       "      <td>394.30</td>\n",
       "      <td>2263.0</td>\n",
       "    </tr>\n",
       "    <tr>\n",
       "      <th>107</th>\n",
       "      <td>2017-01-02 11:02:00+05:30</td>\n",
       "      <td>394.30</td>\n",
       "      <td>394.45</td>\n",
       "      <td>394.0</td>\n",
       "      <td>394.25</td>\n",
       "      <td>7831.0</td>\n",
       "    </tr>\n",
       "    <tr>\n",
       "      <th>108</th>\n",
       "      <td>2017-01-02 11:03:00+05:30</td>\n",
       "      <td>394.25</td>\n",
       "      <td>394.45</td>\n",
       "      <td>394.1</td>\n",
       "      <td>394.40</td>\n",
       "      <td>1869.0</td>\n",
       "    </tr>\n",
       "    <tr>\n",
       "      <th>109</th>\n",
       "      <td>2017-01-02 11:04:00+05:30</td>\n",
       "      <td>394.40</td>\n",
       "      <td>394.40</td>\n",
       "      <td>393.9</td>\n",
       "      <td>394.00</td>\n",
       "      <td>4646.0</td>\n",
       "    </tr>\n",
       "  </tbody>\n",
       "</table>\n",
       "</div>"
      ],
      "text/plain": [
       "                     timestamp    open    high    low   close  volume\n",
       "105  2017-01-02 11:00:00+05:30  394.60  394.70  394.2  394.25  3607.0\n",
       "106  2017-01-02 11:01:00+05:30  394.30  394.30  394.1  394.30  2263.0\n",
       "107  2017-01-02 11:02:00+05:30  394.30  394.45  394.0  394.25  7831.0\n",
       "108  2017-01-02 11:03:00+05:30  394.25  394.45  394.1  394.40  1869.0\n",
       "109  2017-01-02 11:04:00+05:30  394.40  394.40  393.9  394.00  4646.0"
      ]
     },
     "execution_count": 25,
     "metadata": {},
     "output_type": "execute_result"
    }
   ],
   "source": [
    "stock_df.iloc[train_steps_size:].head()"
   ]
  },
  {
   "cell_type": "code",
   "execution_count": 26,
   "metadata": {},
   "outputs": [
    {
     "name": "stdout",
     "output_type": "stream",
     "text": [
      "Epoch 1/10\n",
      "7/7 - 1s - loss: 1.0679\n",
      "Epoch 2/10\n",
      "7/7 - 1s - loss: 0.6221\n",
      "Epoch 3/10\n",
      "7/7 - 1s - loss: 0.5829\n",
      "Epoch 4/10\n",
      "7/7 - 1s - loss: 0.5508\n",
      "Epoch 5/10\n",
      "7/7 - 1s - loss: 0.5353\n",
      "Epoch 6/10\n",
      "7/7 - 1s - loss: 0.5309\n",
      "Epoch 7/10\n",
      "7/7 - 1s - loss: 0.5282\n",
      "Epoch 8/10\n",
      "7/7 - 1s - loss: 0.5286\n",
      "Epoch 9/10\n",
      "7/7 - 1s - loss: 0.5274\n",
      "Epoch 10/10\n",
      "7/7 - 1s - loss: 0.5234\n",
      "Test Score: 0.60 RMSE\n"
     ]
    }
   ],
   "source": [
    "high_model = Sequential()\n",
    "\n",
    "high_model.add(LSTM(200, input_shape=(train_steps_size, features)))\n",
    "high_model.add(Dense(16))\n",
    "high_model.add(Dense(1))\n",
    "\n",
    "high_model.compile(loss='mean_squared_error', optimizer='adam')\n",
    "\n",
    "high_model.fit(train_x, train_high_values, epochs=10, batch_size=batch_size, verbose=2)\n",
    "\n",
    "pred_high = high_model.predict(test_x)\n",
    "test_score = math.sqrt(mean_squared_error(test_high_values, pred_high[:,0]))\n",
    "print(\"Test Score: %.2f RMSE\" % test_score)"
   ]
  },
  {
   "cell_type": "markdown",
   "metadata": {},
   "source": [
    "# Save Model"
   ]
  },
  {
   "cell_type": "code",
   "execution_count": 27,
   "metadata": {},
   "outputs": [
    {
     "name": "stdout",
     "output_type": "stream",
     "text": [
      "INFO:tensorflow:Assets written to: low_model\\assets\n",
      "INFO:tensorflow:Assets written to: high_model\\assets\n"
     ]
    }
   ],
   "source": [
    "low_model.save(\"low_model\")\n",
    "high_model.save(\"high_model\")"
   ]
  },
  {
   "cell_type": "markdown",
   "metadata": {},
   "source": [
    "# Evaluate Model by Trading Strategy \n",
    "\n",
    "Our strategy is quite simple. Target is gettin 0.5% profit and maximum loss we can bear is also 0.5%, So risk:reward is 1:1."
   ]
  },
  {
   "cell_type": "code",
   "execution_count": 28,
   "metadata": {},
   "outputs": [
    {
     "name": "stdout",
     "output_type": "stream",
     "text": [
      "221\n",
      "Possible Trades: 97\n",
      "Successful Trades: 15\n",
      "Fail Trades: 38\n",
      "Win Ratio: 0.283\n"
     ]
    }
   ],
   "source": [
    "profit=0.5\n",
    "stoploss=-0.5\n",
    "test_next_numbers = low_high_next_numbers[:, 2]\n",
    "\n",
    "test_samples_size = len(test_x)\n",
    "\n",
    "pred_y_low = low_model.predict(test_x)\n",
    "pred_y_high = high_model.predict(test_x)\n",
    "\n",
    "count = 0\n",
    "success = 0\n",
    "fail = 0\n",
    "\n",
    "for i in range(test_samples_size):\n",
    "    true_low = test_low_values[i]\n",
    "    true_high = test_high_values[i]\n",
    "\n",
    "    predicted_low = pred_y_low[i]\n",
    "    predicted_high = pred_y_low[i]\n",
    "\n",
    "    buy_value = predicted_low\n",
    "\n",
    "    if true_low <= buy_value <= true_high:\n",
    "        count += 1\n",
    "\n",
    "        sell_value = buy_value + (buy_value * profit) / 100\n",
    "        stop_loss_value = buy_value + (buy_value * stoploss) / 100\n",
    "\n",
    "        bought = False\n",
    "\n",
    "        for value in test_next_numbers[i]:\n",
    "            if bought:\n",
    "                if value <= stop_loss_value:\n",
    "                    fail += 1\n",
    "                    break\n",
    "                elif value >= sell_value:\n",
    "                    success += 1\n",
    "                    break\n",
    "            else:\n",
    "                if value <= buy_value:\n",
    "                    bought = True\n",
    "\n",
    "print(test_samples_size)\n",
    "print(\"Possible Trades:\", count)\n",
    "print(\"Successful Trades:\", success)\n",
    "print(\"Fail Trades:\", fail)\n",
    "\n",
    "win_ratio = round(success / (success + fail), 4)\n",
    "\n",
    "print(\"Win Ratio:\", win_ratio)"
   ]
  },
  {
   "cell_type": "code",
   "execution_count": null,
   "metadata": {},
   "outputs": [],
   "source": []
  }
 ],
 "metadata": {
  "kernelspec": {
   "display_name": "Python 3",
   "language": "python",
   "name": "python3"
  },
  "language_info": {
   "codemirror_mode": {
    "name": "ipython",
    "version": 3
   },
   "file_extension": ".py",
   "mimetype": "text/x-python",
   "name": "python",
   "nbconvert_exporter": "python",
   "pygments_lexer": "ipython3",
   "version": "3.8.3"
  }
 },
 "nbformat": 4,
 "nbformat_minor": 4
}
