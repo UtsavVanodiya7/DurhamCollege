{
 "cells": [
  {
   "cell_type": "code",
   "execution_count": 6,
   "metadata": {},
   "outputs": [],
   "source": [
    "import pandas as pd"
   ]
  },
  {
   "cell_type": "code",
   "execution_count": 16,
   "metadata": {},
   "outputs": [],
   "source": [
    "file_path = r\"U:\\Study\\Durham_AI_Course\\Projects\\AI Algorithms\\dataset\\FullDataCsv\\TATASTEEL__EQ__NSE__NSE__MINUTE.csv\"\n",
    "size = 105\n",
    "\n",
    "stock_df = pd.read_csv(file_path)\n",
    "\n",
    "stock_df['timestamp'] = pd.to_datetime(stock_df['timestamp'])\n",
    "stock_df_groups = stock_df.groupby(pd.DatetimeIndex(stock_df['timestamp']).normalize())\n",
    "\n",
    "one_minute_data = []\n",
    "low_high_next_numbers = []\n",
    "\n",
    "count = 0\n",
    "\n",
    "previous_data = []\n",
    "\n",
    "for i, item in enumerate(stock_df_groups):\n",
    "    name, group = item\n",
    "    \n",
    "    numbers = list(group['close'].iloc[:size+1].values)\n",
    "    df = pd.DataFrame(['Tata Steel']+numbers[1:]).set_index(0).transpose()\n",
    "    df.to_csv('tata_steel_test.csv', index=False)\n",
    "    break"
   ]
  },
  {
   "cell_type": "code",
   "execution_count": null,
   "metadata": {},
   "outputs": [],
   "source": []
  }
 ],
 "metadata": {
  "kernelspec": {
   "display_name": "Python 3",
   "language": "python",
   "name": "python3"
  },
  "language_info": {
   "codemirror_mode": {
    "name": "ipython",
    "version": 3
   },
   "file_extension": ".py",
   "mimetype": "text/x-python",
   "name": "python",
   "nbconvert_exporter": "python",
   "pygments_lexer": "ipython3",
   "version": "3.8.3"
  }
 },
 "nbformat": 4,
 "nbformat_minor": 4
}
